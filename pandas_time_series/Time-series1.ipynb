{
 "cells": [
  {
   "cell_type": "markdown",
   "metadata": {},
   "source": [
    "   # TIME SERIES ANALYSIS\n",
    "   "
   ]
  },
  {
   "cell_type": "markdown",
   "metadata": {
    "collapsed": true
   },
   "source": [
    "          Given the aapl stock dataset for one year(may 2017-may 2018)\n",
    "    1.Load dataset,put date column to be of type timestamp and change the index to be date\n",
    "    2.Find average price of apple's stock in Jan 2018.\n",
    "    3.Retrieve the prices on specific given dates,ie (2018-01-02,2018-01-16)\n",
    "    4.Retrieve the prices on the range of dates( 2017-12-01 upto 2018-01-13)\n",
    "    5.What is the average stock prices of each month"
   ]
  },
  {
   "cell_type": "code",
   "execution_count": 1,
   "metadata": {
    "collapsed": true
   },
   "outputs": [],
   "source": [
    "# import some important modules\n",
    "import pandas as pd\n",
    "%matplotlib inline"
   ]
  },
  {
   "cell_type": "code",
   "execution_count": 3,
   "metadata": {},
   "outputs": [],
   "source": [
    "tsd=pd.read_csv(\"../impact/DATASETS/HistoricalQuotes.csv\")"
   ]
  },
  {
   "cell_type": "code",
   "execution_count": 4,
   "metadata": {},
   "outputs": [
    {
     "data": {
      "text/html": [
       "<div>\n",
       "<style>\n",
       "    .dataframe thead tr:only-child th {\n",
       "        text-align: right;\n",
       "    }\n",
       "\n",
       "    .dataframe thead th {\n",
       "        text-align: left;\n",
       "    }\n",
       "\n",
       "    .dataframe tbody tr th {\n",
       "        vertical-align: top;\n",
       "    }\n",
       "</style>\n",
       "<table border=\"1\" class=\"dataframe\">\n",
       "  <thead>\n",
       "    <tr style=\"text-align: right;\">\n",
       "      <th></th>\n",
       "      <th>date</th>\n",
       "      <th>close</th>\n",
       "      <th>volume</th>\n",
       "      <th>open</th>\n",
       "      <th>high</th>\n",
       "      <th>low</th>\n",
       "    </tr>\n",
       "  </thead>\n",
       "  <tbody>\n",
       "    <tr>\n",
       "      <th>0</th>\n",
       "      <td>2018/05/18</td>\n",
       "      <td>186.31</td>\n",
       "      <td>18083080.0</td>\n",
       "      <td>187.19</td>\n",
       "      <td>187.8102</td>\n",
       "      <td>186.13</td>\n",
       "    </tr>\n",
       "    <tr>\n",
       "      <th>1</th>\n",
       "      <td>2018/05/17</td>\n",
       "      <td>186.99</td>\n",
       "      <td>17014490.0</td>\n",
       "      <td>188.00</td>\n",
       "      <td>188.9100</td>\n",
       "      <td>186.36</td>\n",
       "    </tr>\n",
       "    <tr>\n",
       "      <th>2</th>\n",
       "      <td>2018/05/16</td>\n",
       "      <td>188.18</td>\n",
       "      <td>19046600.0</td>\n",
       "      <td>186.07</td>\n",
       "      <td>188.4600</td>\n",
       "      <td>186.00</td>\n",
       "    </tr>\n",
       "    <tr>\n",
       "      <th>3</th>\n",
       "      <td>2018/05/15</td>\n",
       "      <td>186.44</td>\n",
       "      <td>23639070.0</td>\n",
       "      <td>186.78</td>\n",
       "      <td>187.0700</td>\n",
       "      <td>185.10</td>\n",
       "    </tr>\n",
       "  </tbody>\n",
       "</table>\n",
       "</div>"
      ],
      "text/plain": [
       "         date   close      volume    open      high     low\n",
       "0  2018/05/18  186.31  18083080.0  187.19  187.8102  186.13\n",
       "1  2018/05/17  186.99  17014490.0  188.00  188.9100  186.36\n",
       "2  2018/05/16  188.18  19046600.0  186.07  188.4600  186.00\n",
       "3  2018/05/15  186.44  23639070.0  186.78  187.0700  185.10"
      ]
     },
     "execution_count": 4,
     "metadata": {},
     "output_type": "execute_result"
    }
   ],
   "source": [
    "tsd.head(4)"
   ]
  },
  {
   "cell_type": "code",
   "execution_count": 6,
   "metadata": {},
   "outputs": [
    {
     "data": {
      "text/plain": [
       "str"
      ]
     },
     "execution_count": 6,
     "metadata": {},
     "output_type": "execute_result"
    }
   ],
   "source": [
    "#Data Type for Date\n",
    "type(tsd.date[0])"
   ]
  },
  {
   "cell_type": "markdown",
   "metadata": {},
   "source": [
    "# 01.Load dataset and put date column of type timestamp instead of  string, and change index to be date"
   ]
  },
  {
   "cell_type": "code",
   "execution_count": 8,
   "metadata": {},
   "outputs": [],
   "source": [
    "\n",
    "tsd=pd.read_csv(\"../impact/DATASETS/HistoricalQuotes.csv\",parse_dates=[\"date\"],index_col=\"date\")"
   ]
  },
  {
   "cell_type": "code",
   "execution_count": 9,
   "metadata": {},
   "outputs": [
    {
     "data": {
      "text/html": [
       "<div>\n",
       "<style>\n",
       "    .dataframe thead tr:only-child th {\n",
       "        text-align: right;\n",
       "    }\n",
       "\n",
       "    .dataframe thead th {\n",
       "        text-align: left;\n",
       "    }\n",
       "\n",
       "    .dataframe tbody tr th {\n",
       "        vertical-align: top;\n",
       "    }\n",
       "</style>\n",
       "<table border=\"1\" class=\"dataframe\">\n",
       "  <thead>\n",
       "    <tr style=\"text-align: right;\">\n",
       "      <th></th>\n",
       "      <th>close</th>\n",
       "      <th>volume</th>\n",
       "      <th>open</th>\n",
       "      <th>high</th>\n",
       "      <th>low</th>\n",
       "    </tr>\n",
       "    <tr>\n",
       "      <th>date</th>\n",
       "      <th></th>\n",
       "      <th></th>\n",
       "      <th></th>\n",
       "      <th></th>\n",
       "      <th></th>\n",
       "    </tr>\n",
       "  </thead>\n",
       "  <tbody>\n",
       "    <tr>\n",
       "      <th>2018-05-18</th>\n",
       "      <td>186.31</td>\n",
       "      <td>18083080.0</td>\n",
       "      <td>187.19</td>\n",
       "      <td>187.8102</td>\n",
       "      <td>186.13</td>\n",
       "    </tr>\n",
       "    <tr>\n",
       "      <th>2018-05-17</th>\n",
       "      <td>186.99</td>\n",
       "      <td>17014490.0</td>\n",
       "      <td>188.00</td>\n",
       "      <td>188.9100</td>\n",
       "      <td>186.36</td>\n",
       "    </tr>\n",
       "    <tr>\n",
       "      <th>2018-05-16</th>\n",
       "      <td>188.18</td>\n",
       "      <td>19046600.0</td>\n",
       "      <td>186.07</td>\n",
       "      <td>188.4600</td>\n",
       "      <td>186.00</td>\n",
       "    </tr>\n",
       "    <tr>\n",
       "      <th>2018-05-15</th>\n",
       "      <td>186.44</td>\n",
       "      <td>23639070.0</td>\n",
       "      <td>186.78</td>\n",
       "      <td>187.0700</td>\n",
       "      <td>185.10</td>\n",
       "    </tr>\n",
       "  </tbody>\n",
       "</table>\n",
       "</div>"
      ],
      "text/plain": [
       "             close      volume    open      high     low\n",
       "date                                                    \n",
       "2018-05-18  186.31  18083080.0  187.19  187.8102  186.13\n",
       "2018-05-17  186.99  17014490.0  188.00  188.9100  186.36\n",
       "2018-05-16  188.18  19046600.0  186.07  188.4600  186.00\n",
       "2018-05-15  186.44  23639070.0  186.78  187.0700  185.10"
      ]
     },
     "execution_count": 9,
     "metadata": {},
     "output_type": "execute_result"
    }
   ],
   "source": [
    "tsd.head(4)"
   ]
  },
  {
   "cell_type": "code",
   "execution_count": 10,
   "metadata": {},
   "outputs": [
    {
     "data": {
      "text/plain": [
       "DatetimeIndex(['2018-05-18', '2018-05-17', '2018-05-16', '2018-05-15',\n",
       "               '2018-05-14', '2018-05-11', '2018-05-10', '2018-05-09',\n",
       "               '2018-05-08', '2018-05-07',\n",
       "               ...\n",
       "               '2017-06-01', '2017-05-31', '2017-05-30', '2017-05-26',\n",
       "               '2017-05-25', '2017-05-24', '2017-05-23', '2017-05-22',\n",
       "               '2017-05-19', '2017-05-18'],\n",
       "              dtype='datetime64[ns]', name='date', length=253, freq=None)"
      ]
     },
     "execution_count": 10,
     "metadata": {},
     "output_type": "execute_result"
    }
   ],
   "source": [
    "tsd.index\n"
   ]
  },
  {
   "cell_type": "markdown",
   "metadata": {},
   "source": [
    "# 02. Find average price of apple's stock in Jan 2018."
   ]
  },
  {
   "cell_type": "code",
   "execution_count": 11,
   "metadata": {},
   "outputs": [
    {
     "data": {
      "text/html": [
       "<div>\n",
       "<style>\n",
       "    .dataframe thead tr:only-child th {\n",
       "        text-align: right;\n",
       "    }\n",
       "\n",
       "    .dataframe thead th {\n",
       "        text-align: left;\n",
       "    }\n",
       "\n",
       "    .dataframe tbody tr th {\n",
       "        vertical-align: top;\n",
       "    }\n",
       "</style>\n",
       "<table border=\"1\" class=\"dataframe\">\n",
       "  <thead>\n",
       "    <tr style=\"text-align: right;\">\n",
       "      <th></th>\n",
       "      <th>close</th>\n",
       "      <th>volume</th>\n",
       "      <th>open</th>\n",
       "      <th>high</th>\n",
       "      <th>low</th>\n",
       "    </tr>\n",
       "    <tr>\n",
       "      <th>date</th>\n",
       "      <th></th>\n",
       "      <th></th>\n",
       "      <th></th>\n",
       "      <th></th>\n",
       "      <th></th>\n",
       "    </tr>\n",
       "  </thead>\n",
       "  <tbody>\n",
       "    <tr>\n",
       "      <th>2018-01-31</th>\n",
       "      <td>167.43</td>\n",
       "      <td>32234520.0</td>\n",
       "      <td>166.870</td>\n",
       "      <td>168.4417</td>\n",
       "      <td>166.5000</td>\n",
       "    </tr>\n",
       "    <tr>\n",
       "      <th>2018-01-30</th>\n",
       "      <td>166.97</td>\n",
       "      <td>45635470.0</td>\n",
       "      <td>165.525</td>\n",
       "      <td>167.3700</td>\n",
       "      <td>164.7000</td>\n",
       "    </tr>\n",
       "    <tr>\n",
       "      <th>2018-01-29</th>\n",
       "      <td>167.96</td>\n",
       "      <td>50565420.0</td>\n",
       "      <td>170.160</td>\n",
       "      <td>170.1600</td>\n",
       "      <td>167.0700</td>\n",
       "    </tr>\n",
       "    <tr>\n",
       "      <th>2018-01-26</th>\n",
       "      <td>171.51</td>\n",
       "      <td>39075250.0</td>\n",
       "      <td>172.000</td>\n",
       "      <td>172.0000</td>\n",
       "      <td>170.0600</td>\n",
       "    </tr>\n",
       "    <tr>\n",
       "      <th>2018-01-25</th>\n",
       "      <td>171.11</td>\n",
       "      <td>41438280.0</td>\n",
       "      <td>174.505</td>\n",
       "      <td>174.9500</td>\n",
       "      <td>170.5300</td>\n",
       "    </tr>\n",
       "    <tr>\n",
       "      <th>2018-01-24</th>\n",
       "      <td>174.22</td>\n",
       "      <td>51368540.0</td>\n",
       "      <td>177.250</td>\n",
       "      <td>177.3000</td>\n",
       "      <td>173.2000</td>\n",
       "    </tr>\n",
       "    <tr>\n",
       "      <th>2018-01-23</th>\n",
       "      <td>177.04</td>\n",
       "      <td>32395870.0</td>\n",
       "      <td>177.300</td>\n",
       "      <td>179.4400</td>\n",
       "      <td>176.8200</td>\n",
       "    </tr>\n",
       "    <tr>\n",
       "      <th>2018-01-22</th>\n",
       "      <td>177.00</td>\n",
       "      <td>27052000.0</td>\n",
       "      <td>177.300</td>\n",
       "      <td>177.7800</td>\n",
       "      <td>176.6016</td>\n",
       "    </tr>\n",
       "    <tr>\n",
       "      <th>2018-01-19</th>\n",
       "      <td>178.46</td>\n",
       "      <td>31306390.0</td>\n",
       "      <td>178.610</td>\n",
       "      <td>179.5800</td>\n",
       "      <td>177.4100</td>\n",
       "    </tr>\n",
       "    <tr>\n",
       "      <th>2018-01-18</th>\n",
       "      <td>179.26</td>\n",
       "      <td>31087330.0</td>\n",
       "      <td>179.370</td>\n",
       "      <td>180.1000</td>\n",
       "      <td>178.2500</td>\n",
       "    </tr>\n",
       "    <tr>\n",
       "      <th>2018-01-17</th>\n",
       "      <td>179.10</td>\n",
       "      <td>34260230.0</td>\n",
       "      <td>176.150</td>\n",
       "      <td>179.2500</td>\n",
       "      <td>175.0700</td>\n",
       "    </tr>\n",
       "    <tr>\n",
       "      <th>2018-01-16</th>\n",
       "      <td>176.19</td>\n",
       "      <td>29512410.0</td>\n",
       "      <td>177.900</td>\n",
       "      <td>179.3900</td>\n",
       "      <td>176.1400</td>\n",
       "    </tr>\n",
       "    <tr>\n",
       "      <th>2018-01-12</th>\n",
       "      <td>177.09</td>\n",
       "      <td>25302200.0</td>\n",
       "      <td>176.180</td>\n",
       "      <td>177.3600</td>\n",
       "      <td>175.6500</td>\n",
       "    </tr>\n",
       "    <tr>\n",
       "      <th>2018-01-11</th>\n",
       "      <td>175.28</td>\n",
       "      <td>18653380.0</td>\n",
       "      <td>174.590</td>\n",
       "      <td>175.4886</td>\n",
       "      <td>174.4900</td>\n",
       "    </tr>\n",
       "    <tr>\n",
       "      <th>2018-01-10</th>\n",
       "      <td>174.29</td>\n",
       "      <td>23751690.0</td>\n",
       "      <td>173.160</td>\n",
       "      <td>174.3000</td>\n",
       "      <td>173.0000</td>\n",
       "    </tr>\n",
       "    <tr>\n",
       "      <th>2018-01-09</th>\n",
       "      <td>174.33</td>\n",
       "      <td>21532200.0</td>\n",
       "      <td>174.550</td>\n",
       "      <td>175.0600</td>\n",
       "      <td>173.4100</td>\n",
       "    </tr>\n",
       "    <tr>\n",
       "      <th>2018-01-08</th>\n",
       "      <td>174.35</td>\n",
       "      <td>20523870.0</td>\n",
       "      <td>174.350</td>\n",
       "      <td>175.6100</td>\n",
       "      <td>173.9300</td>\n",
       "    </tr>\n",
       "    <tr>\n",
       "      <th>2018-01-05</th>\n",
       "      <td>175.00</td>\n",
       "      <td>23589930.0</td>\n",
       "      <td>173.440</td>\n",
       "      <td>175.3700</td>\n",
       "      <td>173.0500</td>\n",
       "    </tr>\n",
       "    <tr>\n",
       "      <th>2018-01-04</th>\n",
       "      <td>173.03</td>\n",
       "      <td>22342650.0</td>\n",
       "      <td>172.540</td>\n",
       "      <td>173.4700</td>\n",
       "      <td>172.0800</td>\n",
       "    </tr>\n",
       "    <tr>\n",
       "      <th>2018-01-03</th>\n",
       "      <td>172.23</td>\n",
       "      <td>29461040.0</td>\n",
       "      <td>172.530</td>\n",
       "      <td>174.5500</td>\n",
       "      <td>171.9600</td>\n",
       "    </tr>\n",
       "    <tr>\n",
       "      <th>2018-01-02</th>\n",
       "      <td>172.26</td>\n",
       "      <td>25400540.0</td>\n",
       "      <td>170.160</td>\n",
       "      <td>172.3000</td>\n",
       "      <td>169.2600</td>\n",
       "    </tr>\n",
       "  </tbody>\n",
       "</table>\n",
       "</div>"
      ],
      "text/plain": [
       "             close      volume     open      high       low\n",
       "date                                                       \n",
       "2018-01-31  167.43  32234520.0  166.870  168.4417  166.5000\n",
       "2018-01-30  166.97  45635470.0  165.525  167.3700  164.7000\n",
       "2018-01-29  167.96  50565420.0  170.160  170.1600  167.0700\n",
       "2018-01-26  171.51  39075250.0  172.000  172.0000  170.0600\n",
       "2018-01-25  171.11  41438280.0  174.505  174.9500  170.5300\n",
       "2018-01-24  174.22  51368540.0  177.250  177.3000  173.2000\n",
       "2018-01-23  177.04  32395870.0  177.300  179.4400  176.8200\n",
       "2018-01-22  177.00  27052000.0  177.300  177.7800  176.6016\n",
       "2018-01-19  178.46  31306390.0  178.610  179.5800  177.4100\n",
       "2018-01-18  179.26  31087330.0  179.370  180.1000  178.2500\n",
       "2018-01-17  179.10  34260230.0  176.150  179.2500  175.0700\n",
       "2018-01-16  176.19  29512410.0  177.900  179.3900  176.1400\n",
       "2018-01-12  177.09  25302200.0  176.180  177.3600  175.6500\n",
       "2018-01-11  175.28  18653380.0  174.590  175.4886  174.4900\n",
       "2018-01-10  174.29  23751690.0  173.160  174.3000  173.0000\n",
       "2018-01-09  174.33  21532200.0  174.550  175.0600  173.4100\n",
       "2018-01-08  174.35  20523870.0  174.350  175.6100  173.9300\n",
       "2018-01-05  175.00  23589930.0  173.440  175.3700  173.0500\n",
       "2018-01-04  173.03  22342650.0  172.540  173.4700  172.0800\n",
       "2018-01-03  172.23  29461040.0  172.530  174.5500  171.9600\n",
       "2018-01-02  172.26  25400540.0  170.160  172.3000  169.2600"
      ]
     },
     "execution_count": 11,
     "metadata": {},
     "output_type": "execute_result"
    }
   ],
   "source": [
    "#Retrieve only jan 2018 stock Prices\n",
    "tsd[\"2018-01\"]"
   ]
  },
  {
   "cell_type": "code",
   "execution_count": 12,
   "metadata": {},
   "outputs": [
    {
     "data": {
      "text/plain": [
       "174.00523809523813"
      ]
     },
     "execution_count": 12,
     "metadata": {},
     "output_type": "execute_result"
    }
   ],
   "source": [
    "#Average price in Jan 2018\n",
    "tsd[\"2018-01\"].close.mean()"
   ]
  },
  {
   "cell_type": "markdown",
   "metadata": {},
   "source": [
    "# 03. Retrieve the prices on specific given dates,ie (2018-01-02,2018-01-16)"
   ]
  },
  {
   "cell_type": "code",
   "execution_count": 13,
   "metadata": {},
   "outputs": [
    {
     "data": {
      "text/html": [
       "<div>\n",
       "<style>\n",
       "    .dataframe thead tr:only-child th {\n",
       "        text-align: right;\n",
       "    }\n",
       "\n",
       "    .dataframe thead th {\n",
       "        text-align: left;\n",
       "    }\n",
       "\n",
       "    .dataframe tbody tr th {\n",
       "        vertical-align: top;\n",
       "    }\n",
       "</style>\n",
       "<table border=\"1\" class=\"dataframe\">\n",
       "  <thead>\n",
       "    <tr style=\"text-align: right;\">\n",
       "      <th></th>\n",
       "      <th>close</th>\n",
       "      <th>volume</th>\n",
       "      <th>open</th>\n",
       "      <th>high</th>\n",
       "      <th>low</th>\n",
       "    </tr>\n",
       "    <tr>\n",
       "      <th>date</th>\n",
       "      <th></th>\n",
       "      <th></th>\n",
       "      <th></th>\n",
       "      <th></th>\n",
       "      <th></th>\n",
       "    </tr>\n",
       "  </thead>\n",
       "  <tbody>\n",
       "    <tr>\n",
       "      <th>2018-01-02</th>\n",
       "      <td>172.26</td>\n",
       "      <td>25400540.0</td>\n",
       "      <td>170.16</td>\n",
       "      <td>172.3</td>\n",
       "      <td>169.26</td>\n",
       "    </tr>\n",
       "  </tbody>\n",
       "</table>\n",
       "</div>"
      ],
      "text/plain": [
       "             close      volume    open   high     low\n",
       "date                                                 \n",
       "2018-01-02  172.26  25400540.0  170.16  172.3  169.26"
      ]
     },
     "execution_count": 13,
     "metadata": {},
     "output_type": "execute_result"
    }
   ],
   "source": [
    "tsd[\"2018-01-02\"]"
   ]
  },
  {
   "cell_type": "code",
   "execution_count": 14,
   "metadata": {},
   "outputs": [
    {
     "data": {
      "text/html": [
       "<div>\n",
       "<style>\n",
       "    .dataframe thead tr:only-child th {\n",
       "        text-align: right;\n",
       "    }\n",
       "\n",
       "    .dataframe thead th {\n",
       "        text-align: left;\n",
       "    }\n",
       "\n",
       "    .dataframe tbody tr th {\n",
       "        vertical-align: top;\n",
       "    }\n",
       "</style>\n",
       "<table border=\"1\" class=\"dataframe\">\n",
       "  <thead>\n",
       "    <tr style=\"text-align: right;\">\n",
       "      <th></th>\n",
       "      <th>close</th>\n",
       "      <th>volume</th>\n",
       "      <th>open</th>\n",
       "      <th>high</th>\n",
       "      <th>low</th>\n",
       "    </tr>\n",
       "    <tr>\n",
       "      <th>date</th>\n",
       "      <th></th>\n",
       "      <th></th>\n",
       "      <th></th>\n",
       "      <th></th>\n",
       "      <th></th>\n",
       "    </tr>\n",
       "  </thead>\n",
       "  <tbody>\n",
       "    <tr>\n",
       "      <th>2018-01-16</th>\n",
       "      <td>176.19</td>\n",
       "      <td>29512410.0</td>\n",
       "      <td>177.9</td>\n",
       "      <td>179.39</td>\n",
       "      <td>176.14</td>\n",
       "    </tr>\n",
       "  </tbody>\n",
       "</table>\n",
       "</div>"
      ],
      "text/plain": [
       "             close      volume   open    high     low\n",
       "date                                                 \n",
       "2018-01-16  176.19  29512410.0  177.9  179.39  176.14"
      ]
     },
     "execution_count": 14,
     "metadata": {},
     "output_type": "execute_result"
    }
   ],
   "source": [
    "tsd[\"2018-01-16\"]"
   ]
  },
  {
   "cell_type": "markdown",
   "metadata": {},
   "source": [
    "# 04. Retrieve the prices on the range of dates( 2017-12-01 upto 2018-01-13)"
   ]
  },
  {
   "cell_type": "code",
   "execution_count": 15,
   "metadata": {},
   "outputs": [
    {
     "data": {
      "text/html": [
       "<div>\n",
       "<style>\n",
       "    .dataframe thead tr:only-child th {\n",
       "        text-align: right;\n",
       "    }\n",
       "\n",
       "    .dataframe thead th {\n",
       "        text-align: left;\n",
       "    }\n",
       "\n",
       "    .dataframe tbody tr th {\n",
       "        vertical-align: top;\n",
       "    }\n",
       "</style>\n",
       "<table border=\"1\" class=\"dataframe\">\n",
       "  <thead>\n",
       "    <tr style=\"text-align: right;\">\n",
       "      <th></th>\n",
       "      <th>close</th>\n",
       "      <th>volume</th>\n",
       "      <th>open</th>\n",
       "      <th>high</th>\n",
       "      <th>low</th>\n",
       "    </tr>\n",
       "    <tr>\n",
       "      <th>date</th>\n",
       "      <th></th>\n",
       "      <th></th>\n",
       "      <th></th>\n",
       "      <th></th>\n",
       "      <th></th>\n",
       "    </tr>\n",
       "  </thead>\n",
       "  <tbody>\n",
       "    <tr>\n",
       "      <th>2018-01-12</th>\n",
       "      <td>177.09</td>\n",
       "      <td>25302200.0</td>\n",
       "      <td>176.18</td>\n",
       "      <td>177.3600</td>\n",
       "      <td>175.650</td>\n",
       "    </tr>\n",
       "    <tr>\n",
       "      <th>2018-01-11</th>\n",
       "      <td>175.28</td>\n",
       "      <td>18653380.0</td>\n",
       "      <td>174.59</td>\n",
       "      <td>175.4886</td>\n",
       "      <td>174.490</td>\n",
       "    </tr>\n",
       "    <tr>\n",
       "      <th>2018-01-10</th>\n",
       "      <td>174.29</td>\n",
       "      <td>23751690.0</td>\n",
       "      <td>173.16</td>\n",
       "      <td>174.3000</td>\n",
       "      <td>173.000</td>\n",
       "    </tr>\n",
       "    <tr>\n",
       "      <th>2018-01-09</th>\n",
       "      <td>174.33</td>\n",
       "      <td>21532200.0</td>\n",
       "      <td>174.55</td>\n",
       "      <td>175.0600</td>\n",
       "      <td>173.410</td>\n",
       "    </tr>\n",
       "    <tr>\n",
       "      <th>2018-01-08</th>\n",
       "      <td>174.35</td>\n",
       "      <td>20523870.0</td>\n",
       "      <td>174.35</td>\n",
       "      <td>175.6100</td>\n",
       "      <td>173.930</td>\n",
       "    </tr>\n",
       "    <tr>\n",
       "      <th>2018-01-05</th>\n",
       "      <td>175.00</td>\n",
       "      <td>23589930.0</td>\n",
       "      <td>173.44</td>\n",
       "      <td>175.3700</td>\n",
       "      <td>173.050</td>\n",
       "    </tr>\n",
       "    <tr>\n",
       "      <th>2018-01-04</th>\n",
       "      <td>173.03</td>\n",
       "      <td>22342650.0</td>\n",
       "      <td>172.54</td>\n",
       "      <td>173.4700</td>\n",
       "      <td>172.080</td>\n",
       "    </tr>\n",
       "    <tr>\n",
       "      <th>2018-01-03</th>\n",
       "      <td>172.23</td>\n",
       "      <td>29461040.0</td>\n",
       "      <td>172.53</td>\n",
       "      <td>174.5500</td>\n",
       "      <td>171.960</td>\n",
       "    </tr>\n",
       "    <tr>\n",
       "      <th>2018-01-02</th>\n",
       "      <td>172.26</td>\n",
       "      <td>25400540.0</td>\n",
       "      <td>170.16</td>\n",
       "      <td>172.3000</td>\n",
       "      <td>169.260</td>\n",
       "    </tr>\n",
       "    <tr>\n",
       "      <th>2017-12-29</th>\n",
       "      <td>169.23</td>\n",
       "      <td>25938760.0</td>\n",
       "      <td>170.52</td>\n",
       "      <td>170.5900</td>\n",
       "      <td>169.220</td>\n",
       "    </tr>\n",
       "    <tr>\n",
       "      <th>2017-12-28</th>\n",
       "      <td>171.08</td>\n",
       "      <td>16412270.0</td>\n",
       "      <td>171.00</td>\n",
       "      <td>171.8500</td>\n",
       "      <td>170.480</td>\n",
       "    </tr>\n",
       "    <tr>\n",
       "      <th>2017-12-27</th>\n",
       "      <td>170.60</td>\n",
       "      <td>21477380.0</td>\n",
       "      <td>170.10</td>\n",
       "      <td>170.7800</td>\n",
       "      <td>169.710</td>\n",
       "    </tr>\n",
       "    <tr>\n",
       "      <th>2017-12-26</th>\n",
       "      <td>170.57</td>\n",
       "      <td>33113340.0</td>\n",
       "      <td>170.80</td>\n",
       "      <td>171.4700</td>\n",
       "      <td>169.679</td>\n",
       "    </tr>\n",
       "    <tr>\n",
       "      <th>2017-12-22</th>\n",
       "      <td>175.01</td>\n",
       "      <td>16339690.0</td>\n",
       "      <td>174.68</td>\n",
       "      <td>175.4240</td>\n",
       "      <td>174.500</td>\n",
       "    </tr>\n",
       "  </tbody>\n",
       "</table>\n",
       "</div>"
      ],
      "text/plain": [
       "             close      volume    open      high      low\n",
       "date                                                     \n",
       "2018-01-12  177.09  25302200.0  176.18  177.3600  175.650\n",
       "2018-01-11  175.28  18653380.0  174.59  175.4886  174.490\n",
       "2018-01-10  174.29  23751690.0  173.16  174.3000  173.000\n",
       "2018-01-09  174.33  21532200.0  174.55  175.0600  173.410\n",
       "2018-01-08  174.35  20523870.0  174.35  175.6100  173.930\n",
       "2018-01-05  175.00  23589930.0  173.44  175.3700  173.050\n",
       "2018-01-04  173.03  22342650.0  172.54  173.4700  172.080\n",
       "2018-01-03  172.23  29461040.0  172.53  174.5500  171.960\n",
       "2018-01-02  172.26  25400540.0  170.16  172.3000  169.260\n",
       "2017-12-29  169.23  25938760.0  170.52  170.5900  169.220\n",
       "2017-12-28  171.08  16412270.0  171.00  171.8500  170.480\n",
       "2017-12-27  170.60  21477380.0  170.10  170.7800  169.710\n",
       "2017-12-26  170.57  33113340.0  170.80  171.4700  169.679\n",
       "2017-12-22  175.01  16339690.0  174.68  175.4240  174.500"
      ]
     },
     "execution_count": 15,
     "metadata": {},
     "output_type": "execute_result"
    }
   ],
   "source": [
    "tsd[\"2018-01-13\":\"2017-12-22\"]"
   ]
  },
  {
   "cell_type": "markdown",
   "metadata": {},
   "source": [
    "# 05.What is the average stock prices of each month"
   ]
  },
  {
   "cell_type": "code",
   "execution_count": 16,
   "metadata": {
    "collapsed": true
   },
   "outputs": [],
   "source": [
    "#Resample your data to get average price of each month\n",
    "monthly=tsd.close.resample('M').mean()"
   ]
  },
  {
   "cell_type": "code",
   "execution_count": 17,
   "metadata": {},
   "outputs": [
    {
     "data": {
      "text/plain": [
       "date\n",
       "2017-05-31    153.404444\n",
       "2017-06-30    147.831364\n",
       "2017-07-31    148.299500\n",
       "2017-08-31    159.021304\n",
       "2017-09-30    157.608500\n",
       "2017-10-31    157.817273\n",
       "2017-11-30    172.406190\n",
       "2017-12-31    171.891500\n",
       "2018-01-31    174.005238\n",
       "2018-02-28    167.638947\n",
       "2018-03-31    174.496190\n",
       "2018-04-30    169.834286\n",
       "2018-05-31    184.261429\n",
       "Freq: M, Name: close, dtype: float64"
      ]
     },
     "execution_count": 17,
     "metadata": {},
     "output_type": "execute_result"
    }
   ],
   "source": [
    "monthly"
   ]
  },
  {
   "cell_type": "code",
   "execution_count": 18,
   "metadata": {},
   "outputs": [
    {
     "data": {
      "text/plain": [
       "<matplotlib.axes._subplots.AxesSubplot at 0x263e7fdac50>"
      ]
     },
     "execution_count": 18,
     "metadata": {},
     "output_type": "execute_result"
    },
    {
     "data": {
      "image/png": "[encoded data removed]",
      "text/plain": [
       "<matplotlib.figure.Figure at 0x263e7fda9b0>"
      ]
     },
     "metadata": {},
     "output_type": "display_data"
    }
   ],
   "source": [
    "monthly.plot()\n",
    "\n"
   ]
  },
  {
   "cell_type": "code",
   "execution_count": 19,
   "metadata": {},
   "outputs": [
    {
     "data": {
      "text/plain": [
       "<matplotlib.axes._subplots.AxesSubplot at 0x263e803ae10>"
      ]
     },
     "execution_count": 19,
     "metadata": {},
     "output_type": "execute_result"
    },
    {
     "data": {
      "image/png": "[encoded data removed]",
      "text/plain": [
       "<matplotlib.figure.Figure at 0x263e80cc4a8>"
      ]
     },
     "metadata": {},
     "output_type": "display_data"
    }
   ],
   "source": [
    "#Average stock prices after every three months(Quartile)\n",
    "tsd.close.resample('Q').mean().plot()"
   ]
  },
  {
   "cell_type": "code",
   "execution_count": 20,
   "metadata": {},
   "outputs": [
    {
     "data": {
      "text/plain": [
       "<matplotlib.axes._subplots.AxesSubplot at 0x263e819a8d0>"
      ]
     },
     "execution_count": 20,
     "metadata": {},
     "output_type": "execute_result"
    },
    {
     "data": {
      "image/png": "[encoded data removed]",
      "text/plain": [
       "<matplotlib.figure.Figure at 0x263e81a3d68>"
      ]
     },
     "metadata": {},
     "output_type": "display_data"
    }
   ],
   "source": [
    "tsd.close.plot()"
   ]
  },
  {
   "cell_type": "code",
   "execution_count": null,
   "metadata": {
    "collapsed": true
   },
   "outputs": [],
   "source": []
  }
 ],
 "metadata": {
  "kernelspec": {
   "display_name": "Python 3",
   "language": "python",
   "name": "python3"
  },
  "language_info": {
   "codemirror_mode": {
    "name": "ipython",
    "version": 3
   },
   "file_extension": ".py",
   "mimetype": "text/x-python",
   "name": "python",
   "nbconvert_exporter": "python",
   "pygments_lexer": "ipython3",
   "version": "3.6.1"
  }
 },
 "nbformat": 4,
 "nbformat_minor": 2
}
